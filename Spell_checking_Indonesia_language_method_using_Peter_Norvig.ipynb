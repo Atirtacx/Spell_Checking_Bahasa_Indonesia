{
  "nbformat": 4,
  "nbformat_minor": 0,
  "metadata": {
    "colab": {
      "provenance": [],
      "authorship_tag": "ABX9TyNseNrCSx2LFdYsqxlKtWOK",
      "include_colab_link": true
    },
    "kernelspec": {
      "name": "python3",
      "display_name": "Python 3"
    },
    "language_info": {
      "name": "python"
    }
  },
  "cells": [
    {
      "cell_type": "markdown",
      "metadata": {
        "id": "view-in-github",
        "colab_type": "text"
      },
      "source": [
        "<a href=\"https://colab.research.google.com/github/Atirtacx/Spell_Checking_Bahasa_Indonesia/blob/main/Spell_checking_Indonesia_language_method_using_Peter_Norvig.ipynb\" target=\"_parent\"><img src=\"https://colab.research.google.com/assets/colab-badge.svg\" alt=\"Open In Colab\"/></a>"
      ]
    },
    {
      "cell_type": "code",
      "execution_count": 4,
      "metadata": {
        "colab": {
          "base_uri": "https://localhost:8080/"
        },
        "id": "zJ5x2PTjIR4i",
        "outputId": "255cf235-4097-413b-913a-481c1bef1015"
      },
      "outputs": [
        {
          "output_type": "stream",
          "name": "stdout",
          "text": [
            "Dictionary loaded in 0.003116130828857422 seconds.\n",
            "kemaren -> kemarin, suggestions: ['kemarin'], runtime: 0.000508 seconds\n",
            "ku -> kau, suggestions: ['kau', 'kue', 'kuk', 'kui', 'kur', 'aku', 'kup', 'kus', 'kiu', 'mu', 'kru'], runtime: 0.000179 seconds\n",
            "knalpot -> knalpot, suggestions: ['knalpot'], runtime: 0.000009 seconds\n",
            "brangkas -> brankas, suggestions: ['brankas', 'bangkas'], runtime: 0.000400 seconds\n",
            "biskuut -> biskuit, suggestions: ['biskuit'], runtime: 0.000371 seconds\n",
            "kemeja -> kemeja, suggestions: ['kemeja'], runtime: 0.000008 seconds\n",
            "selasa -> selasa, suggestions: ['selasa'], runtime: 0.000007 seconds\n",
            "kemna -> kena, suggestions: ['kena', 'keman', 'kempa'], runtime: 0.000247 seconds\n",
            "minm -> minim, suggestions: ['minim', 'mini', 'minum', 'min', 'mina', 'mim'], runtime: 0.000200 seconds\n",
            "siap -> siap, suggestions: ['siap'], runtime: 0.000008 seconds\n"
          ]
        }
      ],
      "source": [
        "#Peter_Norvig\n",
        "\n",
        "import re\n",
        "from collections import Counter\n",
        "import time\n",
        "\n",
        "def load_words(file_path):\n",
        "    with open(file_path, 'r') as f:\n",
        "        words = f.read().splitlines()\n",
        "    return words\n",
        "\n",
        "WORDS = Counter(words(open('kata-dasar.txt').read()))\n",
        "\n",
        "def P(word, N=sum(WORDS.values())):\n",
        "    \"Probability of `word`.\"\n",
        "    return WORDS[word] / N\n",
        "\n",
        "def correction(word):\n",
        "    \"Most probable spelling correction for word.\"\n",
        "    return max(candidates(word), key=P)\n",
        "\n",
        "def candidates(word):\n",
        "    \"Generate possible spelling corrections for word.\"\n",
        "    return (known([word]) or known(edits1(word)) or known(edits2(word)) or [word])\n",
        "\n",
        "def known(words):\n",
        "    \"The subset of `words` that appear in the dictionary of WORDS.\"\n",
        "    return set(w for w in words if w in WORDS)\n",
        "\n",
        "def edits1(word):\n",
        "    \"All edits that are one edit away from `word`.\"\n",
        "    letters    = 'abcdefghijklmnopqrstuvwxyz'\n",
        "    splits     = [(word[:i], word[i:])    for i in range(len(word) + 1)]\n",
        "    deletes    = [L + R[1:]               for L, R in splits if R]\n",
        "    transposes = [L + R[1] + R[0] + R[2:] for L, R in splits if len(R) > 1]\n",
        "    replaces   = [L + c + R[1:]           for L, R in splits if R for c in letters]\n",
        "    inserts    = [L + c + R               for L, R in splits for c in letters]\n",
        "    return set(deletes + transposes + replaces + inserts)\n",
        "\n",
        "def edits2(word):\n",
        "    \"All edits that are two edits away from `word`.\"\n",
        "    return (e2 for e1 in edits1(word) for e2 in edits1(e1))\n",
        "\n",
        "def suggestion_word(word):\n",
        "    \"Return suggestions for misspelled word\"\n",
        "    return sorted(candidates(word), key=P, reverse=True)\n",
        "\n",
        "# load dictionary\n",
        "start_time = time.time()\n",
        "dictionary = load_words('kata-dasar.txt')\n",
        "print(f\"Dictionary loaded in {time.time()-start_time} seconds.\")\n",
        "\n",
        "# Testing\n",
        "test_words = ['kemaren', \n",
        "              'ku', \n",
        "              'knalpot', \n",
        "              'brangkas', \n",
        "              'biskuut', \n",
        "              'kemeja', \n",
        "              'selasa', \n",
        "              'kemna', \n",
        "              'minm', \n",
        "              'siap']\n",
        "\n",
        "for word in test_words:\n",
        "    start = time.time()\n",
        "    corrected_word = correction(word)\n",
        "    suggestions = suggestion_word(word)\n",
        "    end = time.time()\n",
        "    print(f\"{word} -> {corrected_word}, suggestions: {suggestions}, runtime: {end-start:.6f} seconds\")\n"
      ]
    }
  ]
}