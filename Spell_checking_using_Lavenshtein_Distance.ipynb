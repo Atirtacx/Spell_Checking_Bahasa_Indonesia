{
  "nbformat": 4,
  "nbformat_minor": 0,
  "metadata": {
    "colab": {
      "provenance": [],
      "authorship_tag": "ABX9TyMw21efecCuHx8Myl1Fu8NR",
      "include_colab_link": true
    },
    "kernelspec": {
      "name": "python3",
      "display_name": "Python 3"
    },
    "language_info": {
      "name": "python"
    }
  },
  "cells": [
    {
      "cell_type": "markdown",
      "metadata": {
        "id": "view-in-github",
        "colab_type": "text"
      },
      "source": [
        "<a href=\"https://colab.research.google.com/github/Atirtacx/Spell_Checking_Bahasa_Indonesia/blob/main/Spell_checking_using_Lavenshtein_Distance.ipynb\" target=\"_parent\"><img src=\"https://colab.research.google.com/assets/colab-badge.svg\" alt=\"Open In Colab\"/></a>"
      ]
    },
    {
      "cell_type": "code",
      "execution_count": 1,
      "metadata": {
        "colab": {
          "base_uri": "https://localhost:8080/"
        },
        "id": "NQnUm0cVtW8R",
        "outputId": "5eb8b8f2-7e5c-4b39-eb3b-d1bd01a9c9ba"
      },
      "outputs": [
        {
          "output_type": "stream",
          "name": "stdout",
          "text": [
            "Dictionary loaded in 0.01443624496459961 seconds.\n",
            "kemaren -> Kata yang dimaksud mungkin adalah: kemarin (Time taken: 1.2569715976715088 seconds)\n",
            "ku -> Kata yang dimaksud mungkin adalah: aku, kau, kiu, kru, kue, kui, kuk, kup, kur, kus, mu (Time taken: 0.4618368148803711 seconds)\n",
            "knalpot -> knalpot (Time taken: 1.2939159870147705 seconds)\n",
            "brangkas -> Kata yang dimaksud mungkin adalah: bangkas, brankas (Time taken: 1.4427282810211182 seconds)\n",
            "biskuut -> Kata yang dimaksud mungkin adalah: biskuit (Time taken: 0.9540843963623047 seconds)\n",
            "kemeja -> kemeja (Time taken: 1.4093878269195557 seconds)\n",
            "selasa -> selasa (Time taken: 1.4027934074401855 seconds)\n",
            "kmana -> Kata yang dimaksud mungkin adalah: kana, koana, mana (Time taken: 1.003403663635254 seconds)\n",
            "kenap -> kenap (Time taken: 0.9372379779815674 seconds)\n",
            "siap -> siap (Time taken: 0.5043070316314697 seconds)\n"
          ]
        }
      ],
      "source": [
        "#Lavenshtein_Distance\n",
        "import time\n",
        "\n",
        "def load_words(file_path):\n",
        "    with open(file_path, 'r') as f:\n",
        "        words = f.read().splitlines()\n",
        "    return words\n",
        "\n",
        "def levenshtein_distance(s, t):\n",
        "    m = len(s)\n",
        "    n = len(t)\n",
        "    d = [[0] * (n + 1) for _ in range(m + 1)]\n",
        "\n",
        "    for i in range(1, m + 1):\n",
        "        d[i][0] = i\n",
        "\n",
        "    for j in range(1, n + 1):\n",
        "        d[0][j] = j\n",
        "\n",
        "    for j in range(1, n + 1):\n",
        "        for i in range(1, m + 1):\n",
        "            if s[i - 1] == t[j - 1]:\n",
        "                d[i][j] = d[i - 1][j - 1]\n",
        "            else:\n",
        "                d[i][j] = min(d[i - 1][j] + 1,  # deletion\n",
        "                              d[i][j - 1] + 1,  # insertion\n",
        "                              d[i - 1][j - 1] + 1)  # substitution\n",
        "\n",
        "    return d[m][n]\n",
        "\n",
        "# fungsi spell checker dengan spell suggestion dan spell correction\n",
        "def spell_checker(word, dictionary):\n",
        "    min_distance = float('inf')\n",
        "    closest_word = ''\n",
        "    suggestions = []\n",
        "    for dict_word in dictionary:\n",
        "        distance = levenshtein_distance(word, dict_word)\n",
        "        if distance < min_distance:\n",
        "            min_distance = distance\n",
        "            closest_word = dict_word\n",
        "        if distance <= 1: # atur threshold jarak terdekat\n",
        "            suggestions.append(dict_word)\n",
        "            \n",
        "    if min_distance == 0:\n",
        "        return word\n",
        "    elif len(suggestions) > 0:\n",
        "        return f\"Kata yang dimaksud mungkin adalah: {', '.join(suggestions)}\"\n",
        "    else:\n",
        "        return f\"Tidak ditemukan kata yang cocok. Kata yang dimaksud mungkin adalah: {closest_word}\"\n",
        "\n",
        "# load dictionary\n",
        "start_time = time.time()\n",
        "dictionary = load_words('kata-dasar.txt')\n",
        "print(f\"Dictionary loaded in {time.time()-start_time} seconds.\")\n",
        "\n",
        "# test spell checker\n",
        "words_to_test = ['kemaren', \n",
        "                 'ku', \n",
        "                 'knalpot', \n",
        "                 'brangkas', \n",
        "                 'biskuut', \n",
        "                 'kemeja', \n",
        "                 'selasa', \n",
        "                 'kmana', \n",
        "                 'kenap', \n",
        "                 'siap']\n",
        "\n",
        "for word in words_to_test:\n",
        "    start_time = time.time()\n",
        "    suggestion = spell_checker(word, dictionary)\n",
        "    print(f\"{word} -> {suggestion} (Time taken: {time.time()-start_time} seconds)\")"
      ]
    }
  ]
}